{
 "cells": [
  {
   "cell_type": "code",
   "execution_count": 51,
   "metadata": {},
   "outputs": [],
   "source": [
    "import networkx as nx\n",
    "import itertools\n",
    "import pandas as pd\n",
    "from itertools import chain\n",
    "import numpy as np"
   ]
  },
  {
   "cell_type": "code",
   "execution_count": 55,
   "metadata": {},
   "outputs": [
    {
     "data": {
      "text/html": [
       "<div>\n",
       "<style scoped>\n",
       "    .dataframe tbody tr th:only-of-type {\n",
       "        vertical-align: middle;\n",
       "    }\n",
       "\n",
       "    .dataframe tbody tr th {\n",
       "        vertical-align: top;\n",
       "    }\n",
       "\n",
       "    .dataframe thead th {\n",
       "        text-align: right;\n",
       "    }\n",
       "</style>\n",
       "<table border=\"1\" class=\"dataframe\">\n",
       "  <thead>\n",
       "    <tr style=\"text-align: right;\">\n",
       "      <th></th>\n",
       "      <th>name</th>\n",
       "      <th>identifier</th>\n",
       "    </tr>\n",
       "  </thead>\n",
       "  <tbody>\n",
       "    <tr>\n",
       "      <th>0</th>\n",
       "      <td>a</td>\n",
       "      <td>1</td>\n",
       "    </tr>\n",
       "    <tr>\n",
       "      <th>1</th>\n",
       "      <td>a</td>\n",
       "      <td>3</td>\n",
       "    </tr>\n",
       "    <tr>\n",
       "      <th>2</th>\n",
       "      <td>b</td>\n",
       "      <td>1</td>\n",
       "    </tr>\n",
       "    <tr>\n",
       "      <th>3</th>\n",
       "      <td>b</td>\n",
       "      <td>2</td>\n",
       "    </tr>\n",
       "    <tr>\n",
       "      <th>4</th>\n",
       "      <td>c</td>\n",
       "      <td>3</td>\n",
       "    </tr>\n",
       "  </tbody>\n",
       "</table>\n",
       "</div>"
      ],
      "text/plain": [
       "  name  identifier\n",
       "0    a           1\n",
       "1    a           3\n",
       "2    b           1\n",
       "3    b           2\n",
       "4    c           3"
      ]
     },
     "execution_count": 55,
     "metadata": {},
     "output_type": "execute_result"
    }
   ],
   "source": [
    "df = pd.DataFrame({'name' : ['a', 'a', 'b', 'b', 'c'],\n",
    "                   'identifier' : [1, 3, 1, 2, 3]})\n",
    "df"
   ]
  },
  {
   "cell_type": "code",
   "execution_count": null,
   "metadata": {},
   "outputs": [],
   "source": []
  },
  {
   "cell_type": "code",
   "execution_count": 138,
   "metadata": {},
   "outputs": [],
   "source": [
    "df = pd.DataFrame({'name' : ['a', 'a', 'b', 'b', 'c'],\n",
    "                   'identifier' : [1, 3, 1, 2, 3]})\n",
    "df_grouped = df.groupby('name')['identifier'].unique().reset_index(name='identifier')\n",
    "# df_grouped['identifier'] = df_grouped['identifier'].apply(lambda x: tuple(x))\n",
    "df_grouped_dict = dict(df_grouped.values)"
   ]
  },
  {
   "cell_type": "code",
   "execution_count": 65,
   "metadata": {},
   "outputs": [
    {
     "data": {
      "text/plain": [
       "{'c , b , a': {1, 2, 3}}"
      ]
     },
     "execution_count": 65,
     "metadata": {},
     "output_type": "execute_result"
    }
   ],
   "source": [
    "test = group_dict_values(df_grouped_dict)\n",
    "test"
   ]
  },
  {
   "cell_type": "code",
   "execution_count": 20,
   "metadata": {},
   "outputs": [
    {
     "data": {
      "text/plain": [
       "[['John', 'Sayyed'],\n",
       " ['John', 'Simon'],\n",
       " ['bush', 'trump'],\n",
       " ['Sam', 'Suri', 'NewYork'],\n",
       " ['Suri', 'Orlando', 'Canada']]"
      ]
     },
     "execution_count": 20,
     "metadata": {},
     "output_type": "execute_result"
    }
   ],
   "source": [
    "L = [['John','Sayyed'], ['John' , 'Simon'] ,['bush','trump'],\n",
    "     ['Sam','Suri','NewYork'],['Suri','Orlando','Canada']]\n",
    "L"
   ]
  },
  {
   "cell_type": "code",
   "execution_count": 21,
   "metadata": {},
   "outputs": [],
   "source": [
    "G = nx.Graph()"
   ]
  },
  {
   "cell_type": "code",
   "execution_count": 22,
   "metadata": {},
   "outputs": [
    {
     "data": {
      "text/plain": [
       "[{'John', 'Sayyed', 'Simon'},\n",
       " {'bush', 'trump'},\n",
       " {'Canada', 'NewYork', 'Orlando', 'Sam', 'Suri'}]"
      ]
     },
     "execution_count": 22,
     "metadata": {},
     "output_type": "execute_result"
    }
   ],
   "source": [
    "for l in L:\n",
    "    nx.add_path(G, l)\n",
    "list(nx.connected_components(G))\n",
    "\n"
   ]
  },
  {
   "cell_type": "code",
   "execution_count": 26,
   "metadata": {},
   "outputs": [
    {
     "data": {
      "image/png": "[encoded data removed]",
      "text/plain": [
       "<Figure size 640x480 with 1 Axes>"
      ]
     },
     "metadata": {},
     "output_type": "display_data"
    }
   ],
   "source": [
    "pos = nx.spring_layout(G, scale=20, k=2/np.sqrt(G.order()))\n",
    "nx.draw(G, pos, node_color='lightgreen', node_size=1000, with_labels=True)"
   ]
  },
  {
   "cell_type": "code",
   "execution_count": 133,
   "metadata": {},
   "outputs": [],
   "source": [
    "d = {\n",
    "    \"A\": [\"tango\", \"bravo\", \"alpha\"],\n",
    "    \"B\": [\"bravo\", \"test\"],\n",
    "    \"C\": [\"romero\", \"test\"],\n",
    "    \"D\": [\"other\"],\n",
    "    \"E\": [\"and\", \"other\"],\n",
    "    \"F\": [\"loner\"],\n",
    "}"
   ]
  },
  {
   "cell_type": "code",
   "execution_count": 151,
   "metadata": {},
   "outputs": [
    {
     "data": {
      "text/plain": [
       "{'a': array([1, 3]),\n",
       " 'b': array([1, 2]),\n",
       " 'c': array([3]),\n",
       " 'd': array([4, 5]),\n",
       " 'e': array([5, 4]),\n",
       " 'g': array([6])}"
      ]
     },
     "execution_count": 151,
     "metadata": {},
     "output_type": "execute_result"
    }
   ],
   "source": [
    "df = pd.DataFrame({'name' : ['a', 'a', 'b', 'b', 'c', 'd', 'd', 'e', 'e', 'g'],\n",
    "                   'identifier' : [1, 3, 1, 2, 3, 4, 5, 5, 4, 6]})\n",
    "df_grouped = df.groupby('name')['identifier'].unique().reset_index(name='identifier')\n",
    "# df_grouped['identifier'] = df_grouped['identifier'].apply(lambda x: tuple(x))\n",
    "dict(df_grouped.values)"
   ]
  },
  {
   "cell_type": "code",
   "execution_count": 165,
   "metadata": {},
   "outputs": [],
   "source": [
    "def group_values(df_grouped_dict):\n",
    "    #build combination of all keys pairwise\n",
    "    #check for common values in the list\n",
    "    d = df_grouped_dict.copy()\n",
    "    G = nx.Graph()\n",
    "    for nodes in itertools.combinations(d.keys(), r=2):\n",
    "        common_edges = set(d[nodes[0]]) & set(d[nodes[1]])\n",
    "        for edge in common_edges:\n",
    "            G.add_edge(*nodes, value=edge)\n",
    "\n",
    "    # get list with all connected keys (keys which have any common value)\n",
    "    connected = list(nx.connected_components(G))\n",
    "    print(connected)\n",
    "    new_dict = {}\n",
    "    for groups in connected:\n",
    "        res = set()\n",
    "        for key in groups:\n",
    "            res.update(d[key])\n",
    "        for key in groups:\n",
    "            new_dict[key] = [list(res), list(groups)]\n",
    "    for k, v in d.items():\n",
    "        if not any([k in key for key in new_dict.keys()]):\n",
    "            if type(d[k]) == np.ndarray:\n",
    "                new_dict[k] = [d[k].tolist(), [k]]\n",
    "            else:\n",
    "                new_dict[k] = [d[k], [k]]\n",
    "    return new_dict\n"
   ]
  },
  {
   "cell_type": "code",
   "execution_count": 166,
   "metadata": {},
   "outputs": [
    {
     "data": {
      "image/png": "[encoded data removed]",
      "text/plain": [
       "<Figure size 640x480 with 1 Axes>"
      ]
     },
     "metadata": {},
     "output_type": "display_data"
    }
   ],
   "source": [
    "pos = nx.spring_layout(G, scale=20, k=2/np.sqrt(G.order()))\n",
    "nx.draw(G, pos, node_color='lightgreen', node_size=1000, with_labels=True)"
   ]
  },
  {
   "cell_type": "code",
   "execution_count": 164,
   "metadata": {},
   "outputs": [
    {
     "name": "stdout",
     "output_type": "stream",
     "text": [
      "[{'c', 'b', 'a'}, {'d', 'e'}]\n"
     ]
    },
    {
     "data": {
      "text/plain": [
       "{'c': [[1, 2, 3], ['c', 'b', 'a']],\n",
       " 'b': [[1, 2, 3], ['c', 'b', 'a']],\n",
       " 'a': [[1, 2, 3], ['c', 'b', 'a']],\n",
       " 'd': [[4, 5], ['d', 'e']],\n",
       " 'e': [[4, 5], ['d', 'e']],\n",
       " 'g': [[6], ['g']]}"
      ]
     },
     "execution_count": 164,
     "metadata": {},
     "output_type": "execute_result"
    }
   ],
   "source": [
    "group_values(df_grouped_dict)"
   ]
  },
  {
   "cell_type": "code",
   "execution_count": 160,
   "metadata": {},
   "outputs": [
    {
     "data": {
      "text/plain": [
       "True"
      ]
     },
     "execution_count": 160,
     "metadata": {},
     "output_type": "execute_result"
    }
   ],
   "source": [
    "type(df_grouped_dict['a']) == np.ndarray"
   ]
  },
  {
   "cell_type": "code",
   "execution_count": 127,
   "metadata": {},
   "outputs": [
    {
     "data": {
      "text/plain": [
       "{'c': [[1, 2, 3], ['c', 'b', 'a']],\n",
       " 'b': [[1, 2, 3], ['c', 'b', 'a']],\n",
       " 'a': [[1, 2, 3], ['c', 'b', 'a']],\n",
       " 'd': [[4, 5], ['d', 'e']],\n",
       " 'e': [[4, 5], ['d', 'e']],\n",
       " 'g': [[6], ['g']]}"
      ]
     },
     "execution_count": 127,
     "metadata": {},
     "output_type": "execute_result"
    }
   ],
   "source": [
    "new_dict = {}\n",
    "for groups in connected:\n",
    "    res = set()\n",
    "    for key in groups:\n",
    "        res.update(d[key])\n",
    "    for key in groups:\n",
    "        new_dict[key] = [list(res), list(groups)]\n",
    "for k, v in d.items():\n",
    "    if not any([k in key for key in new_dict.keys()]):\n",
    "        new_dict[k] = [d[k].tolist(), [k]]\n",
    "\n",
    "new_dict"
   ]
  },
  {
   "cell_type": "code",
   "execution_count": 117,
   "metadata": {},
   "outputs": [
    {
     "data": {
      "text/plain": [
       "{'c': [[1, 2, 3], ['c', 'b', 'a']],\n",
       " 'b': [[1, 2, 3], ['c', 'b', 'a']],\n",
       " 'a': [[1, 2, 3], ['c', 'b', 'a']],\n",
       " 'd': [[4, 5], ['d', 'e']],\n",
       " 'e': [[4, 5], ['d', 'e']],\n",
       " 'g': array([6])}"
      ]
     },
     "execution_count": 117,
     "metadata": {},
     "output_type": "execute_result"
    }
   ],
   "source": [
    "new_dict"
   ]
  },
  {
   "cell_type": "code",
   "execution_count": null,
   "metadata": {},
   "outputs": [],
   "source": [
    "    # create new dict from \"connected\" with joined keys and joined values\n",
    "    new_list = {}\n",
    "    for groups in connected:\n",
    "        res = set()\n",
    "        for key in groups:\n",
    "            res.update(d[key])\n",
    "        new_list[groups] = list(res)\n",
    "        # new_dict[f\"{' , '.join(list(groups))}\"] = res\n",
    "\n",
    "    # check for elements in the original dictionary which aren't connected to anything and add them\n",
    "    for k, v in d.items():\n",
    "        if not any([k in key for key in new_dict.keys()]):\n",
    "            new_dict[k] = d[k]"
   ]
  }
 ],
 "metadata": {
  "kernelspec": {
   "display_name": "Python 3.10.5 ('env': venv)",
   "language": "python",
   "name": "python3"
  },
  "language_info": {
   "codemirror_mode": {
    "name": "ipython",
    "version": 3
   },
   "file_extension": ".py",
   "mimetype": "text/x-python",
   "name": "python",
   "nbconvert_exporter": "python",
   "pygments_lexer": "ipython3",
   "version": "3.10.5"
  },
  "orig_nbformat": 4,
  "vscode": {
   "interpreter": {
    "hash": "1b03e53c72ab40110adef2a5d5487e5c8342616f25f48db6e601fe736d123a07"
   }
  }
 },
 "nbformat": 4,
 "nbformat_minor": 2
}
